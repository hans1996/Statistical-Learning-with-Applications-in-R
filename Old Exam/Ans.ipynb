{
 "cells": [
  {
   "cell_type": "markdown",
   "metadata": {},
   "source": [
    "# Ans"
   ]
  },
  {
   "cell_type": "markdown",
   "metadata": {},
   "source": [
    "## 1\n",
    "### (a). \n",
    "The fitted model will be\n",
    "\n",
    "$$-17.2014*(Intercept)-0.0075*displacement+0.0316*horsepower-0.0069*weight+0.1022*acceleration+0.7586*year$$  \n",
    "\n",
    "The taining error is  "
   ]
  },
  {
   "cell_type": "code",
   "execution_count": 19,
   "metadata": {},
   "outputs": [
    {
     "data": {
      "text/html": [
       "10.9626113523895"
      ],
      "text/latex": [
       "10.9626113523895"
      ],
      "text/markdown": [
       "10.9626113523895"
      ],
      "text/plain": [
       "[1] 10.96261"
      ]
     },
     "metadata": {},
     "output_type": "display_data"
    }
   ],
   "source": [
    "Auto_train=read.csv(\"./Data/auto/auto_train.csv\",header = T)\n",
    "Auto_test=read.csv(\"./Data/auto/auto_test.csv\",header = T)\n",
    "m1=lm(mpg~.,data=Auto_train)\n",
    "mean((Auto_train$mpg-m1$fitted.values)^2)"
   ]
  },
  {
   "cell_type": "markdown",
   "metadata": {},
   "source": [
    "The test error is"
   ]
  },
  {
   "cell_type": "code",
   "execution_count": 20,
   "metadata": {},
   "outputs": [
    {
     "data": {
      "text/html": [
       "12.7836089032359"
      ],
      "text/latex": [
       "12.7836089032359"
      ],
      "text/markdown": [
       "12.7836089032359"
      ],
      "text/plain": [
       "[1] 12.78361"
      ]
     },
     "metadata": {},
     "output_type": "display_data"
    }
   ],
   "source": [
    "pred_test_y=predict(m1,newdata = Auto_test)\n",
    "mean((Auto_test$mpg-pred_test_y)^2)"
   ]
  },
  {
   "cell_type": "markdown",
   "metadata": {},
   "source": [
    "The fitted model using predictors which are statically signicant will be  \n",
    "\n",
    "$$-12.667*(Intercept)-0.0066*weight+0.7347*year$$  \n",
    "\n",
    "The taining error is  "
   ]
  },
  {
   "cell_type": "code",
   "execution_count": 21,
   "metadata": {},
   "outputs": [
    {
     "data": {
      "text/html": [
       "11.1601312696737"
      ],
      "text/latex": [
       "11.1601312696737"
      ],
      "text/markdown": [
       "11.1601312696737"
      ],
      "text/plain": [
       "[1] 11.16013"
      ]
     },
     "metadata": {},
     "output_type": "display_data"
    }
   ],
   "source": [
    "m2=lm(mpg~weight+year,data=Auto_train)\n",
    "mean((Auto_train$mpg-m2$fitted.values)^2)"
   ]
  },
  {
   "cell_type": "markdown",
   "metadata": {},
   "source": [
    "The test error is  "
   ]
  },
  {
   "cell_type": "code",
   "execution_count": 22,
   "metadata": {},
   "outputs": [
    {
     "data": {
      "text/html": [
       "12.1659051153108"
      ],
      "text/latex": [
       "12.1659051153108"
      ],
      "text/markdown": [
       "12.1659051153108"
      ],
      "text/plain": [
       "[1] 12.16591"
      ]
     },
     "metadata": {},
     "output_type": "display_data"
    }
   ],
   "source": [
    "pred_test_y_2=predict(m2,newdata = Auto_test)\n",
    "mean((Auto_test$mpg-pred_test_y_2)^2)"
   ]
  },
  {
   "cell_type": "markdown",
   "metadata": {},
   "source": [
    "### (b). \n",
    "The fitted model of rigor regression will be \n",
    "\n",
    "$$-7.3884*(Intercept)-0.0178*displacement-0.0106*horsepower+-0.004*weight-0.13*acceleration+0.6509*year$$\n",
    "\n",
    "The taining error is"
   ]
  },
  {
   "cell_type": "code",
   "execution_count": 23,
   "metadata": {},
   "outputs": [
    {
     "data": {
      "text/html": [
       "11.5361177947091"
      ],
      "text/latex": [
       "11.5361177947091"
      ],
      "text/markdown": [
       "11.5361177947091"
      ],
      "text/plain": [
       "[1] 11.53612"
      ]
     },
     "metadata": {},
     "output_type": "display_data"
    }
   ],
   "source": [
    "require(glmnet)\n",
    "set.seed(1)\n",
    "m3=cv.glmnet(as.matrix(Auto_train[,-1]),Auto_train[,1],alpha=0,family=\"gaussian\")\n",
    "pred_train_rigor=predict(m3,s=m3$lambda.min,newx = as.matrix(Auto_train[,-1]))\n",
    "mean((Auto_train$mpg-pred_train_rigor)^2)"
   ]
  },
  {
   "cell_type": "markdown",
   "metadata": {},
   "source": [
    "The test error is  "
   ]
  },
  {
   "cell_type": "code",
   "execution_count": 24,
   "metadata": {},
   "outputs": [
    {
     "data": {
      "text/html": [
       "13.1234258239398"
      ],
      "text/latex": [
       "13.1234258239398"
      ],
      "text/markdown": [
       "13.1234258239398"
      ],
      "text/plain": [
       "[1] 13.12343"
      ]
     },
     "metadata": {},
     "output_type": "display_data"
    }
   ],
   "source": [
    "pred_test_rigor=predict(m3,s=m3$lambda.min,newx = as.matrix(Auto_test[,-1]))\n",
    "mean((Auto_test$mpg-pred_test_rigor)^2)"
   ]
  },
  {
   "cell_type": "markdown",
   "metadata": {},
   "source": [
    "### (c). \n",
    "The fitted model of lasso regression will be \n",
    "\n",
    "$$-3.4811*(Intercept)-0.0039*displacement+0*horsepower-0.0055*weight+0*acceleration+0.5809*year$$\n",
    "\n",
    "The taining error is  "
   ]
  },
  {
   "cell_type": "code",
   "execution_count": 25,
   "metadata": {},
   "outputs": [
    {
     "data": {
      "text/html": [
       "11.1766362817694"
      ],
      "text/latex": [
       "11.1766362817694"
      ],
      "text/markdown": [
       "11.1766362817694"
      ],
      "text/plain": [
       "[1] 11.17664"
      ]
     },
     "metadata": {},
     "output_type": "display_data"
    }
   ],
   "source": [
    "set.seed(1)\n",
    "m4=cv.glmnet(as.matrix(Auto_train[,-1]),Auto_train[,1],family=\"gaussian\")\n",
    "pred_train_lasso=predict(m4,s=m4$lambda.min,newx = as.matrix(Auto_train[,-1]))\n",
    "mean((Auto_train$mpg-pred_train_lasso)^2)"
   ]
  },
  {
   "cell_type": "markdown",
   "metadata": {},
   "source": [
    "The test error is  "
   ]
  },
  {
   "cell_type": "code",
   "execution_count": 26,
   "metadata": {},
   "outputs": [
    {
     "data": {
      "text/html": [
       "12.3069322538482"
      ],
      "text/latex": [
       "12.3069322538482"
      ],
      "text/markdown": [
       "12.3069322538482"
      ],
      "text/plain": [
       "[1] 12.30693"
      ]
     },
     "metadata": {},
     "output_type": "display_data"
    }
   ],
   "source": [
    "pred_test_lasso=predict(m4,s=m4$lambda.min,newx = as.matrix(Auto_test[,-1]))\n",
    "mean((Auto_test$mpg-pred_test_lasso)^2)"
   ]
  },
  {
   "cell_type": "markdown",
   "metadata": {},
   "source": [
    "### (d). \n",
    "According to (a)-(c), multiple regression with significant variables has the smallest test error.\n",
    "\n",
    "\n",
    "### (e). \n",
    "Multiple regrssion bootstrap result"
   ]
  },
  {
   "cell_type": "code",
   "execution_count": 27,
   "metadata": {},
   "outputs": [
    {
     "name": "stderr",
     "output_type": "stream",
     "text": [
      "Loading required package: boot\n"
     ]
    },
    {
     "data": {
      "text/plain": [
       "\n",
       "ORDINARY NONPARAMETRIC BOOTSTRAP\n",
       "\n",
       "\n",
       "Call:\n",
       "boot(data = Auto_train, statistic = mul_coef, R = 1000)\n",
       "\n",
       "\n",
       "Bootstrap Statistics :\n",
       "         original        bias    std. error\n",
       "t1* -17.201371221  0.2056591419 6.564682038\n",
       "t2*  -0.007486269 -0.0006769300 0.009319236\n",
       "t3*   0.031571242 -0.0009805104 0.016530374\n",
       "t4*  -0.006863507  0.0001041661 0.001170817\n",
       "t5*   0.102209315 -0.0094372236 0.187127444\n",
       "t6*   0.758614461 -0.0018574626 0.068721270"
      ]
     },
     "metadata": {},
     "output_type": "display_data"
    }
   ],
   "source": [
    "require(boot)\n",
    "mul_coef<-function(data,index)\n",
    "{\n",
    "  NewData=Auto_train[index,]\n",
    "  m1=lm(mpg~.,data=NewData)\n",
    "  summary(m1)\n",
    "  return(m1$coefficients)\n",
    "}\n",
    "boot(Auto_train,mul_coef,1000)"
   ]
  },
  {
   "cell_type": "markdown",
   "metadata": {},
   "source": [
    "rigor regrssion bootstrap result"
   ]
  },
  {
   "cell_type": "code",
   "execution_count": 28,
   "metadata": {},
   "outputs": [
    {
     "data": {
      "text/plain": [
       "\n",
       "ORDINARY NONPARAMETRIC BOOTSTRAP\n",
       "\n",
       "\n",
       "Call:\n",
       "boot(data = Auto_train, statistic = rigor_coef, R = 1000)\n",
       "\n",
       "\n",
       "Bootstrap Statistics :\n",
       "       original        bias     std. error\n",
       "t1* -7.44231850  1.445685e-01 5.4196139147\n",
       "t2* -0.01781736 -2.775356e-04 0.0035586663\n",
       "t3* -0.01034566 -9.335460e-04 0.0076225139\n",
       "t4* -0.00404830  5.084114e-05 0.0003849608\n",
       "t5* -0.12856090 -2.013515e-03 0.1281383001\n",
       "t6*  0.65120273 -1.795618e-03 0.0605157788"
      ]
     },
     "metadata": {},
     "output_type": "display_data"
    }
   ],
   "source": [
    "rigor_coef<-function(data,index)\n",
    "{\n",
    "  NewData=Auto_train[index,]\n",
    "  m3_new=glmnet(as.matrix(NewData[,-1]),NewData[,1],lambda=m3$lambda.min,alpha = 0,family=\"gaussian\");\n",
    "  return(as.vector(coef(m3_new)))\n",
    "}\n",
    "boot(Auto_train,rigor_coef,1000)"
   ]
  },
  {
   "cell_type": "markdown",
   "metadata": {},
   "source": [
    "lasso regrssion bootstrap result"
   ]
  },
  {
   "cell_type": "code",
   "execution_count": 29,
   "metadata": {
    "scrolled": true
   },
   "outputs": [
    {
     "data": {
      "text/plain": [
       "\n",
       "ORDINARY NONPARAMETRIC BOOTSTRAP\n",
       "\n",
       "\n",
       "Call:\n",
       "boot(data = Auto_train, statistic = lasso_coef, R = 1000)\n",
       "\n",
       "\n",
       "Bootstrap Statistics :\n",
       "         original        bias     std. error\n",
       "t1* -10.688448694  2.924819e-01 5.3323317017\n",
       "t2*  -0.003747162 -2.517098e-03 0.0063875506\n",
       "t3*   0.000000000  6.094799e-05 0.0016033147\n",
       "t4*  -0.006071524  2.429621e-04 0.0007322893\n",
       "t5*   0.000000000 -2.023654e-02 0.0855149766\n",
       "t6*   0.696516494 -2.979130e-03 0.0650959365"
      ]
     },
     "metadata": {},
     "output_type": "display_data"
    }
   ],
   "source": [
    "lasso_coef<-function(data,index)\n",
    "{\n",
    "  NewData=Auto_train[index,]\n",
    "  m4_new=glmnet(as.matrix(NewData[,-1]),NewData[,1],lambda=m4$lambda.min,alpha = 1,family=\"gaussian\");\n",
    "  return(as.vector(coef(m4_new)))\n",
    "}\n",
    "boot(Auto_train,lasso_coef,1000)"
   ]
  },
  {
   "cell_type": "markdown",
   "metadata": {},
   "source": [
    "For displacement, weight and year, rigor regression have lowest standard error. For horsepower and acceleration, lasso regression have lowest standard error. For horsepower and acceleration lasso will tends to zeros, so the standard error will lower than rigor regression."
   ]
  },
  {
   "cell_type": "markdown",
   "metadata": {},
   "source": [
    "## 2.\n",
    "\n",
    "### (a). \n",
    "The smallest k will be "
   ]
  },
  {
   "cell_type": "code",
   "execution_count": 30,
   "metadata": {},
   "outputs": [
    {
     "data": {
      "text/html": [
       "<strong>PC84:</strong> 84"
      ],
      "text/latex": [
       "\\textbf{PC84:} 84"
      ],
      "text/markdown": [
       "**PC84:** 84"
      ],
      "text/plain": [
       "PC84 \n",
       "  84 "
      ]
     },
     "metadata": {},
     "output_type": "display_data"
    }
   ],
   "source": [
    "A_train=read.csv(\"./Data/digits/digits_train.csv\",header=T);\n",
    "A_test=read.csv(\"./Data/digits/digits_test.csv\",header=T);\n",
    "\n",
    "train_X=A_train[,-1];\n",
    "train_Y=A_train[,1];\n",
    "\n",
    "test_X=A_test[,-1];\n",
    "test_Y=A_test[,1];\n",
    "#(a)\n",
    "p1=prcomp(train_X);\n",
    "tmp=summary(p1);\n",
    "k=which(tmp$importance[3,]>=0.9)[1];\n",
    "k\n",
    "new_train_X=as.matrix(train_X)%*%tmp$rotation[,1:k];\n",
    "new_test_X=as.matrix(test_X)%*%tmp$rotation[,1:k];"
   ]
  },
  {
   "cell_type": "markdown",
   "metadata": {},
   "source": [
    "### (b). \n",
    "Fit LDA models. The training classification error will be   "
   ]
  },
  {
   "cell_type": "code",
   "execution_count": 31,
   "metadata": {},
   "outputs": [
    {
     "name": "stderr",
     "output_type": "stream",
     "text": [
      "Loading required package: MASS\n"
     ]
    },
    {
     "data": {
      "text/plain": [
       "   train_Y\n",
       "      0   1   2   3   4   5   6   7   8   9\n",
       "  0 287   0   6   0   0   3   4   2   0   3\n",
       "  1   0 338   6   6   3   2   2   5  13   2\n",
       "  2   1   1 244   5   0   2   1   2   2   0\n",
       "  3   1   1   7 272   0  12   0   1   8   4\n",
       "  4   1   0   4   0 262   2  10   4   1  15\n",
       "  5   5   5   1  16   0 224  10   1  16   0\n",
       "  6   9   1   5   4   4   4 266   0   2   0\n",
       "  7   0   0   4   5   0   0   0 258   0   8\n",
       "  8   2   3  10   7   3   5   2   1 243   2\n",
       "  9   0   2   4   4  23  10   1  26   8 251"
      ]
     },
     "metadata": {},
     "output_type": "display_data"
    },
    {
     "data": {
      "text/html": [
       "0.118333333333333"
      ],
      "text/latex": [
       "0.118333333333333"
      ],
      "text/markdown": [
       "0.118333333333333"
      ],
      "text/plain": [
       "[1] 0.1183333"
      ]
     },
     "metadata": {},
     "output_type": "display_data"
    }
   ],
   "source": [
    "require(MASS)\n",
    "cm1=lda(train_Y~.,data=as.data.frame(new_train_X))\n",
    "lda.pred=predict(cm1 ,newdata=as.data.frame(new_train_X))\n",
    "table1=table(lda.pred$class,train_Y)\n",
    "table1\n",
    "1-sum(diag(table1))/sum(table1)"
   ]
  },
  {
   "cell_type": "markdown",
   "metadata": {},
   "source": [
    "Test classification error will be "
   ]
  },
  {
   "cell_type": "code",
   "execution_count": 32,
   "metadata": {},
   "outputs": [
    {
     "data": {
      "text/plain": [
       "   test_Y\n",
       "      0   1   2   3   4   5   6   7   8   9\n",
       "  0 272   0   1   3   0   5   1   0   3   3\n",
       "  1   0 294   6   5   4   5   6   7  11   2\n",
       "  2   2   2 224  11   0   1   0   3   5   1\n",
       "  3   1   2   3 256   0  24   0   6  12   6\n",
       "  4   1   0   6   1 227   3   2   4   0  19\n",
       "  5  13   3   5  20   3 220   7   1  20   1\n",
       "  6   2   0  13   3   0   5 287   0   3   0\n",
       "  7   1   1  10   4   1   0   0 262   3   9\n",
       "  8   5  12   9   9   1   8   1   2 247   0\n",
       "  9   0   0   4   5  31   5   0  28   9 277"
      ]
     },
     "metadata": {},
     "output_type": "display_data"
    },
    {
     "data": {
      "text/html": [
       "0.144666666666667"
      ],
      "text/latex": [
       "0.144666666666667"
      ],
      "text/markdown": [
       "0.144666666666667"
      ],
      "text/plain": [
       "[1] 0.1446667"
      ]
     },
     "metadata": {},
     "output_type": "display_data"
    }
   ],
   "source": [
    "lda.pred.test=predict(cm1 ,newdata=as.data.frame(new_test_X))\n",
    "table2=table(lda.pred.test$class,test_Y)\n",
    "table2\n",
    "1-sum(diag(table2))/sum(table2)"
   ]
  },
  {
   "cell_type": "markdown",
   "metadata": {},
   "source": [
    "### (c). \n",
    "Fit QDA models. The training classification error will be   "
   ]
  },
  {
   "cell_type": "code",
   "execution_count": 33,
   "metadata": {},
   "outputs": [
    {
     "data": {
      "text/plain": [
       "   train_Y\n",
       "      0   1   2   3   4   5   6   7   8   9\n",
       "  0 306   0   0   0   0   0   0   0   0   0\n",
       "  1   0 348   0   0   0   0   0   0   1   0\n",
       "  2   0   1 291   1   0   0   0   0   0   0\n",
       "  3   0   0   0 316   0   0   0   0   0   1\n",
       "  4   0   1   0   0 295   0   0   0   0   2\n",
       "  5   0   0   0   1   0 264   0   0   0   0\n",
       "  6   0   1   0   0   0   0 296   0   0   0\n",
       "  7   0   0   0   0   0   0   0 299   0   1\n",
       "  8   0   0   0   1   0   0   0   1 292   0\n",
       "  9   0   0   0   0   0   0   0   0   0 281"
      ]
     },
     "metadata": {},
     "output_type": "display_data"
    },
    {
     "data": {
      "text/html": [
       "0.004"
      ],
      "text/latex": [
       "0.004"
      ],
      "text/markdown": [
       "0.004"
      ],
      "text/plain": [
       "[1] 0.004"
      ]
     },
     "metadata": {},
     "output_type": "display_data"
    }
   ],
   "source": [
    "cm2=qda(train_Y~.,data=as.data.frame(new_train_X))\n",
    "qda.pred=predict(cm2 ,newdata=as.data.frame(new_train_X))\n",
    "table3=table(qda.pred$class,train_Y)\n",
    "table3\n",
    "1-sum(diag(table3))/sum(table3)"
   ]
  },
  {
   "cell_type": "markdown",
   "metadata": {},
   "source": [
    "Test classification error will be "
   ]
  },
  {
   "cell_type": "code",
   "execution_count": 34,
   "metadata": {},
   "outputs": [
    {
     "data": {
      "text/plain": [
       "   test_Y\n",
       "      0   1   2   3   4   5   6   7   8   9\n",
       "  0 289   0   0   1   1   0   1   0   3   0\n",
       "  1   0 278   0   0   0   0   0   0   0   0\n",
       "  2   5   6 271  10   2   0   2   6   5   3\n",
       "  3   1   0   1 296   0  13   0   4   9   4\n",
       "  4   0   1   2   1 261   0   0   8   0  17\n",
       "  5   0   0   0   5   0 257   5   2   2   1\n",
       "  6   0   0   0   0   0   0 292   0   0   0\n",
       "  7   0   0   1   1   0   0   0 279   0   3\n",
       "  8   2  29   6   3   0   6   4   7 293   9\n",
       "  9   0   0   0   0   3   0   0   7   1 281"
      ]
     },
     "metadata": {},
     "output_type": "display_data"
    },
    {
     "data": {
      "text/html": [
       "0.0676666666666667"
      ],
      "text/latex": [
       "0.0676666666666667"
      ],
      "text/markdown": [
       "0.0676666666666667"
      ],
      "text/plain": [
       "[1] 0.06766667"
      ]
     },
     "metadata": {},
     "output_type": "display_data"
    }
   ],
   "source": [
    "qda.pred.test=predict(cm2 ,newdata=as.data.frame(new_test_X))\n",
    "table4=table(qda.pred.test$class,test_Y)\n",
    "table4\n",
    "1-sum(diag(table4))/sum(table4)"
   ]
  },
  {
   "cell_type": "markdown",
   "metadata": {},
   "source": [
    "### (d). \n",
    "Table of training and test errors will be "
   ]
  },
  {
   "cell_type": "code",
   "execution_count": 35,
   "metadata": {},
   "outputs": [
    {
     "data": {
      "text/html": [
       "<table>\n",
       "<thead><tr><th></th><th scope=col>1</th><th scope=col>2</th><th scope=col>3</th><th scope=col>4</th><th scope=col>5</th><th scope=col>6</th><th scope=col>7</th><th scope=col>8</th><th scope=col>9</th><th scope=col>10</th></tr></thead>\n",
       "<tbody>\n",
       "\t<tr><th scope=row>train_error</th><td>0.00000000</td><td>0.02833333</td><td>0.034     </td><td>0.03600000</td><td>0.04266667</td><td>0.04733333</td><td>0.048     </td><td>0.05166667</td><td>0.05800000</td><td>0.063     </td></tr>\n",
       "\t<tr><th scope=row>test_error</th><td>0.06933333</td><td>0.08066667</td><td>0.067     </td><td>0.06766667</td><td>0.06933333</td><td>0.07533333</td><td>0.074     </td><td>0.07833333</td><td>0.07733333</td><td>0.080     </td></tr>\n",
       "</tbody>\n",
       "</table>\n"
      ],
      "text/latex": [
       "\\begin{tabular}{r|llllllllll}\n",
       "  & 1 & 2 & 3 & 4 & 5 & 6 & 7 & 8 & 9 & 10\\\\\n",
       "\\hline\n",
       "\ttrain\\_error & 0.00000000 & 0.02833333 & 0.034      & 0.03600000 & 0.04266667 & 0.04733333 & 0.048      & 0.05166667 & 0.05800000 & 0.063     \\\\\n",
       "\ttest\\_error & 0.06933333 & 0.08066667 & 0.067      & 0.06766667 & 0.06933333 & 0.07533333 & 0.074      & 0.07833333 & 0.07733333 & 0.080     \\\\\n",
       "\\end{tabular}\n"
      ],
      "text/markdown": [
       "\n",
       "| <!--/--> | 1 | 2 | 3 | 4 | 5 | 6 | 7 | 8 | 9 | 10 | \n",
       "|---|---|\n",
       "| train_error | 0.00000000 | 0.02833333 | 0.034      | 0.03600000 | 0.04266667 | 0.04733333 | 0.048      | 0.05166667 | 0.05800000 | 0.063      | \n",
       "| test_error | 0.06933333 | 0.08066667 | 0.067      | 0.06766667 | 0.06933333 | 0.07533333 | 0.074      | 0.07833333 | 0.07733333 | 0.080      | \n",
       "\n",
       "\n"
      ],
      "text/plain": [
       "            1          2          3     4          5          6          7    \n",
       "train_error 0.00000000 0.02833333 0.034 0.03600000 0.04266667 0.04733333 0.048\n",
       "test_error  0.06933333 0.08066667 0.067 0.06766667 0.06933333 0.07533333 0.074\n",
       "            8          9          10   \n",
       "train_error 0.05166667 0.05800000 0.063\n",
       "test_error  0.07833333 0.07733333 0.080"
      ]
     },
     "metadata": {},
     "output_type": "display_data"
    }
   ],
   "source": [
    "require(class)\n",
    "train_error=NULL;\n",
    "test_error=NULL;\n",
    "for(i in 1:10)\n",
    "{\n",
    "  m_tmp=knn(new_train_X,new_train_X,train_Y,k=i);\n",
    "  table7=table(m_tmp,train_Y)\n",
    "  table7\n",
    "  train_error[i]=1-sum(diag(table7))/sum(table7)\n",
    "  \n",
    "  m_tmp=knn(new_train_X,new_test_X,train_Y,k=i);\n",
    "  table8=table(m_tmp,test_Y)\n",
    "  table8\n",
    "  test_error[i]=1-sum(diag(table8))/sum(table8)\n",
    "}\n",
    "knn_table=rbind(train_error,test_error);\n",
    "colnames(knn_table)=1:10\n",
    "knn_table"
   ]
  },
  {
   "cell_type": "markdown",
   "metadata": {},
   "source": [
    "The best K value chosen by test calssification error will be "
   ]
  },
  {
   "cell_type": "code",
   "execution_count": 36,
   "metadata": {},
   "outputs": [
    {
     "data": {
      "text/html": [
       "3"
      ],
      "text/latex": [
       "3"
      ],
      "text/markdown": [
       "3"
      ],
      "text/plain": [
       "[1] 3"
      ]
     },
     "metadata": {},
     "output_type": "display_data"
    }
   ],
   "source": [
    "which.min(test_error)"
   ]
  },
  {
   "cell_type": "markdown",
   "metadata": {},
   "source": [
    "The figure will be "
   ]
  },
  {
   "cell_type": "code",
   "execution_count": 37,
   "metadata": {},
   "outputs": [
    {
     "data": {
      "image/png": "[encoded data removed]",
      "text/plain": [
       "plot without title"
      ]
     },
     "metadata": {},
     "output_type": "display_data"
    }
   ],
   "source": [
    "plot((1:10),train_error,type=\"l\",ylim=c(-0.005,0.12),xlab=\"K\",ylab=\"error\")\n",
    "lines((1:10),test_error,col=\"red\")\n",
    "legend(\"topleft\",c(\"train\",\"test\"),col=c(\"black\",\"red\"),lty=c(1,1))"
   ]
  },
  {
   "cell_type": "markdown",
   "metadata": {},
   "source": [
    "### (e). \n",
    "Fit multiple logistic regression "
   ]
  },
  {
   "cell_type": "code",
   "execution_count": 38,
   "metadata": {},
   "outputs": [
    {
     "name": "stderr",
     "output_type": "stream",
     "text": [
      "Warning message:\n",
      "\"package 'doParallel' was built under R version 3.4.3\"Loading required package: iterators\n",
      "Loading required package: parallel\n"
     ]
    }
   ],
   "source": [
    "library(doParallel)\n",
    "cl <- makePSOCKcluster(4) # number of cores to use\n",
    "registerDoParallel(cl)\n",
    "cm3=cv.glmnet(new_train_X,(train_Y),family=\"multinomial\",parallel=TRUE);\n",
    "stopCluster(cl)"
   ]
  },
  {
   "cell_type": "markdown",
   "metadata": {},
   "source": [
    "The training classification error will be   "
   ]
  },
  {
   "cell_type": "code",
   "execution_count": 39,
   "metadata": {},
   "outputs": [
    {
     "data": {
      "text/plain": [
       "            train_Y\n",
       "mul_log_pred   0   1   2   3   4   5   6   7   8   9\n",
       "           0 297   0   4   0   0   2   0   0   0   3\n",
       "           1   0 346   2   1   2   2   0   2   3   2\n",
       "           2   1   1 266   2   0   3   1   4   4   0\n",
       "           3   0   0   3 291   0   7   0   0   6   4\n",
       "           4   0   1   3   0 278   1   3   1   0  10\n",
       "           5   1   0   0  10   0 237   5   1   7   1\n",
       "           6   4   1   4   2   4   5 286   0   2   0\n",
       "           7   0   1   4   2   0   1   0 283   1   8\n",
       "           8   2   1   1   7   2   4   1   1 266   2\n",
       "           9   1   0   4   4   9   2   0   8   4 255"
      ]
     },
     "metadata": {},
     "output_type": "display_data"
    },
    {
     "data": {
      "text/html": [
       "0.0649999999999999"
      ],
      "text/latex": [
       "0.0649999999999999"
      ],
      "text/markdown": [
       "0.0649999999999999"
      ],
      "text/plain": [
       "[1] 0.065"
      ]
     },
     "metadata": {},
     "output_type": "display_data"
    }
   ],
   "source": [
    "mul_log_pred=predict(cm3,newx=new_train_X,s=\"lambda.min\",type=\"class\")\n",
    "table9=table(mul_log_pred,train_Y);\n",
    "table9\n",
    "1-sum(diag(table9))/sum(table9)"
   ]
  },
  {
   "cell_type": "markdown",
   "metadata": {},
   "source": [
    "The test classification error will be   "
   ]
  },
  {
   "cell_type": "code",
   "execution_count": 40,
   "metadata": {},
   "outputs": [
    {
     "data": {
      "text/plain": [
       "                 test_Y\n",
       "mul_log_pred_test   0   1   2   3   4   5   6   7   8   9\n",
       "                0 281   0   3   2   0   5   1   0   3   5\n",
       "                1   0 302   2   2   1   2   1   5   7   2\n",
       "                2   3   0 231  13   0   0   1   6   7   2\n",
       "                3   2   2   3 267   1  16   0   4  13   6\n",
       "                4   1   0   5   0 245   8   0   4   0  15\n",
       "                5   6   4   4  22   0 232   0   1   7   2\n",
       "                6   2   0  12   0   6   3 298   0   2   0\n",
       "                7   1   1  13   4   1   1   1 277   1  11\n",
       "                8   1   5   6   5   2   7   2   2 268   0\n",
       "                9   0   0   2   2  11   2   0  14   5 275"
      ]
     },
     "metadata": {},
     "output_type": "display_data"
    },
    {
     "data": {
      "text/html": [
       "0.108"
      ],
      "text/latex": [
       "0.108"
      ],
      "text/markdown": [
       "0.108"
      ],
      "text/plain": [
       "[1] 0.108"
      ]
     },
     "metadata": {},
     "output_type": "display_data"
    }
   ],
   "source": [
    "mul_log_pred_test=predict(cm3,newx=new_test_X,s=\"lambda.min\",type=\"class\")\n",
    "table10=table(mul_log_pred_test,test_Y);\n",
    "table10\n",
    "1-sum(diag(table10))/sum(table10)"
   ]
  },
  {
   "cell_type": "markdown",
   "metadata": {},
   "source": [
    "### (f). \n",
    "knn with $k=3$ has the lowest test error."
   ]
  },
  {
   "cell_type": "markdown",
   "metadata": {},
   "source": [
    "## 3.\n",
    "\n",
    "### (a). \n",
    "The figure of accuracy will be "
   ]
  },
  {
   "cell_type": "code",
   "execution_count": 41,
   "metadata": {},
   "outputs": [
    {
     "data": {
      "image/png": "[encoded data removed]",
      "text/plain": [
       "plot without title"
      ]
     },
     "metadata": {},
     "output_type": "display_data"
    }
   ],
   "source": [
    "heart=read.csv(\"./Data/heart/heart.csv\",header = T)\n",
    "heart=na.omit(heart)\n",
    "mt1=glm(chd~.,data=heart,family = \"binomial\")\n",
    "pmt1=predict(mt1,type=\"response\",newdata = heart)\n",
    "\n",
    "accu_re<-function(thes)\n",
    "{\n",
    "  table_tmp=table(pmt1>thes,heart$chd)\n",
    "  return(sum(diag(table_tmp))/sum(table_tmp))\n",
    "}\n",
    "acc_set=sapply(0.01*(1:90),accu_re)\n",
    "plot(0.01*(1:90),acc_set,type=\"l\",xlab=\"threshold\",ylab=\"accuracy\")"
   ]
  },
  {
   "cell_type": "markdown",
   "metadata": {},
   "source": [
    "The threhold chosen by maximize accuracy will be "
   ]
  },
  {
   "cell_type": "code",
   "execution_count": 42,
   "metadata": {},
   "outputs": [
    {
     "data": {
      "text/html": [
       "0.57"
      ],
      "text/latex": [
       "0.57"
      ],
      "text/markdown": [
       "0.57"
      ],
      "text/plain": [
       "[1] 0.57"
      ]
     },
     "metadata": {},
     "output_type": "display_data"
    }
   ],
   "source": [
    "bestthe1=0.01*(1:90)[which.max(acc_set)]\n",
    "bestthe1"
   ]
  },
  {
   "cell_type": "markdown",
   "metadata": {},
   "source": [
    "The  correponding confusion matrix will be "
   ]
  },
  {
   "cell_type": "code",
   "execution_count": 43,
   "metadata": {},
   "outputs": [
    {
     "data": {
      "text/plain": [
       "       \n",
       "          0   1\n",
       "  FALSE 274  89\n",
       "  TRUE   28  71"
      ]
     },
     "metadata": {},
     "output_type": "display_data"
    }
   ],
   "source": [
    "table(pmt1>bestthe1,heart$chd)"
   ]
  },
  {
   "cell_type": "markdown",
   "metadata": {},
   "source": [
    "### (b) \n",
    "The ROC curve will be "
   ]
  },
  {
   "cell_type": "code",
   "execution_count": 44,
   "metadata": {},
   "outputs": [
    {
     "data": {
      "image/png": "[encoded data removed]",
      "text/plain": [
       "plot without title"
      ]
     },
     "metadata": {},
     "output_type": "display_data"
    }
   ],
   "source": [
    "sen_spec_re<-function(thes)\n",
    "{\n",
    "  table_tmp=table(pmt1>thes,heart$chd)\n",
    "  return(diag(table_tmp)/colSums(table_tmp))\n",
    "}\n",
    "sen_spec_set=sapply(0.01*(1:90),sen_spec_re)\n",
    "row.names(sen_spec_set)=c(\"specificity\",\"sensetivity\")\n",
    "colnames(sen_spec_set)=0.01*(1:90)\n",
    "plot(1-sen_spec_set[1,],sen_spec_set[2,],type=\"l\",xlab=\"1-specificity\",ylab=\"sensetivity\")\n",
    "abline(0,1)"
   ]
  },
  {
   "cell_type": "markdown",
   "metadata": {},
   "source": [
    "The threhold chosen by maximize accuracy will be "
   ]
  },
  {
   "cell_type": "code",
   "execution_count": 45,
   "metadata": {},
   "outputs": [
    {
     "data": {
      "text/html": [
       "0.32"
      ],
      "text/latex": [
       "0.32"
      ],
      "text/markdown": [
       "0.32"
      ],
      "text/plain": [
       "[1] 0.32"
      ]
     },
     "metadata": {},
     "output_type": "display_data"
    }
   ],
   "source": [
    "bestthe2=0.01*(1:90)[which.max(colSums(sen_spec_set))];\n",
    "bestthe2"
   ]
  },
  {
   "cell_type": "markdown",
   "metadata": {},
   "source": [
    "The  correponding confusion matrix will be "
   ]
  },
  {
   "cell_type": "markdown",
   "metadata": {},
   "source": [
    "### (c). \n",
    "(b) is a better approach, because it has consider the proportion of the label."
   ]
  }
 ],
 "metadata": {
  "kernelspec": {
   "display_name": "R",
   "language": "R",
   "name": "ir"
  },
  "language_info": {
   "codemirror_mode": "r",
   "file_extension": ".r",
   "mimetype": "text/x-r-source",
   "name": "R",
   "pygments_lexer": "r",
   "version": "3.4.1"
  }
 },
 "nbformat": 4,
 "nbformat_minor": 2
}
